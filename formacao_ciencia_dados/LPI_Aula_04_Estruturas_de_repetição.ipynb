{
  "cells": [
    {
      "cell_type": "markdown",
      "metadata": {
        "id": "j8G4MPzskLIO"
      },
      "source": [
        "# Tópicos da aula"
      ]
    },
    {
      "cell_type": "markdown",
      "metadata": {
        "id": "6VipJn-3-uNQ"
      },
      "source": [
        "- Estruturas de repetição"
      ]
    },
    {
      "cell_type": "markdown",
      "metadata": {
        "id": "MCUzHlltkLIS"
      },
      "source": [
        "## Recapitulando\n",
        "\n",
        "Quando queremos alterar o fluxo de execução do programa podemos utilizar o comando if junto com uma expressão lógica."
      ]
    },
    {
      "cell_type": "code",
      "execution_count": null,
      "metadata": {
        "id": "0bk_spNCkLIS"
      },
      "outputs": [],
      "source": [
        "print(3 > 5)\n",
        "# Expressões lógicas retornam true ou false"
      ]
    },
    {
      "cell_type": "code",
      "execution_count": null,
      "metadata": {
        "id": "PQU5I7EEkLIT"
      },
      "outputs": [],
      "source": [
        "if(5 > 3):\n",
        "    print('Nunca vai rodar essa linha')"
      ]
    },
    {
      "cell_type": "markdown",
      "metadata": {
        "id": "_1QJ3VoEkLIT"
      },
      "source": [
        "## Estruturas de Repetição\n",
        "\n",
        "Um if não garante que eu consigo validar o valor de um campo, pois se o usuário nao acertar na 2a vez, ele seguirá inválido"
      ]
    },
    {
      "cell_type": "code",
      "execution_count": null,
      "metadata": {
        "id": "pCwqFzAXkLIT"
      },
      "outputs": [],
      "source": [
        "salario = float(input(\"digite seu salario: \"))\n",
        "if(salario < 1100):\n",
        "    salario = float(input(\"salario invalido, digite outro: \"))\n",
        "else:\n",
        "    print(\"valido\", salario)"
      ]
    },
    {
      "cell_type": "code",
      "execution_count": null,
      "metadata": {
        "id": "dBIAfTirkLIU"
      },
      "outputs": [],
      "source": [
        "salario = float(input(\"digite seu salario: \"))\n",
        "while(salario < 1100): # Recebe uma expressão logica\n",
        "    #Enquanto a expressao for verdade, ele repete as linhas\n",
        "    # que estao dentro\n",
        "    salario = float(input(\"salario invalido, digite outro: \"))\n",
        "print(salario)"
      ]
    },
    {
      "cell_type": "markdown",
      "metadata": {
        "id": "O_sJTG04-uNY"
      },
      "source": [
        "Já vimos uma forma para conseguir desenvolver uma estrutura de repetição `for`. O `for` é responsável por iterar cada um dos elementos de uma variável sequencial."
      ]
    },
    {
      "cell_type": "code",
      "execution_count": null,
      "metadata": {
        "id": "YR5z90k_-uNZ"
      },
      "outputs": [],
      "source": []
    },
    {
      "cell_type": "code",
      "execution_count": null,
      "metadata": {
        "id": "7_FC80uV-uNZ"
      },
      "outputs": [],
      "source": [
        "palavra = 'Flamengo'\n",
        "\n",
        "for letra in palavra:\n",
        "    print(letra)"
      ]
    },
    {
      "cell_type": "code",
      "execution_count": null,
      "metadata": {
        "id": "Jg5GJlkv-uNa"
      },
      "outputs": [],
      "source": []
    },
    {
      "cell_type": "markdown",
      "metadata": {
        "id": "OCsejeSakLIU"
      },
      "source": [
        "__Obs.__: **sempre** que usamos o `while` é **necessário** que a condição seja alterada dentro do while, caso contrário entraremos em um looping infinito"
      ]
    },
    {
      "cell_type": "markdown",
      "metadata": {
        "id": "2JppmaQe-uNa"
      },
      "source": [
        "```python\n",
        "# Exemplo de looping infinito\n",
        "salario = float(input(\"digite seu salario: \"))\n",
        "while(salario < 1100): ## Recebe uma expressão logica\n",
        "    print(salario)\n",
        "```"
      ]
    },
    {
      "cell_type": "code",
      "execution_count": null,
      "metadata": {
        "id": "jifMzOISkLIU"
      },
      "outputs": [],
      "source": []
    },
    {
      "cell_type": "markdown",
      "metadata": {
        "id": "I1SCKX-OkLIU"
      },
      "source": [
        "**Exemplo**: Como podemos alterar este código para que não haja o loop infinito?"
      ]
    },
    {
      "cell_type": "code",
      "execution_count": null,
      "metadata": {
        "id": "SDkuccjhkLIV"
      },
      "outputs": [],
      "source": [
        "# Veja agora um exemplo em que não há o loop infinito\n",
        "numero = int(input(\"Digite um numero: \"))\n",
        "maior = numero\n",
        "while(numero != 0):\n",
        "    numero = int(input(\"Digite um novo numero ou 0 para encerrar: \"))\n",
        "    if(numero > maior):\n",
        "        maior = numero\n",
        "    print(maior)\n",
        "print(maior)"
      ]
    },
    {
      "cell_type": "markdown",
      "metadata": {
        "id": "vmFXCqfEkLIV"
      },
      "source": [
        "__Exemplo:__ Some todos os numeros de 0 a um numero digitado pelo usuario"
      ]
    },
    {
      "cell_type": "code",
      "execution_count": null,
      "metadata": {
        "id": "yAuzTvykkLIV"
      },
      "outputs": [],
      "source": [
        "soma = 0\n",
        "contador = 0\n",
        "limite = int(input(\"Digite um numero: \"))\n",
        "while(contador <= limite):\n",
        "    soma = soma + contador\n",
        "    contador = contador + 1\n",
        "print(soma)"
      ]
    },
    {
      "cell_type": "code",
      "execution_count": null,
      "metadata": {
        "id": "qhR6t9NWkLIV"
      },
      "outputs": [],
      "source": [
        "numero = int(input(\"Digite um numero: \"))\n",
        "contador = 1\n",
        "string = ''\n",
        "while(contador <= numero):\n",
        "    string = string + str(contador) + ' '\n",
        "    contador = contador + 1\n",
        "print(string)"
      ]
    },
    {
      "cell_type": "markdown",
      "metadata": {
        "id": "ZRvPJ_kS-uNd"
      },
      "source": [
        "E como podemos parar essa estrutura de repetição?\n",
        "\n",
        "Temos duas formas:\n",
        "\n",
        "- Se a condição no `while` **não** for verdadeira.\n",
        "\n",
        "- Se forçarmos a parada usando `break` (usamos também para o `for`.)"
      ]
    },
    {
      "cell_type": "code",
      "execution_count": null,
      "metadata": {
        "id": "izL14Mta-uNe"
      },
      "outputs": [],
      "source": [
        "i = 0\n",
        "while True:\n",
        "    i += 1\n",
        "    if i > 3:\n",
        "        print('Eu preciso parar!!')\n",
        "    print(i)"
      ]
    },
    {
      "cell_type": "markdown",
      "metadata": {
        "id": "7-cD1_Ec-uNe"
      },
      "source": [
        "Temos então algumas formas para parar uma estrutura de repetição. Outra estratégia que podemos controlar o fim da repetição é por meio de uma variável de controle (algumas vezes chamamos de flag)."
      ]
    },
    {
      "cell_type": "code",
      "execution_count": null,
      "metadata": {
        "id": "6dtCO5ii-uNe"
      },
      "outputs": [],
      "source": [
        "nao_achei = True\n",
        "num_escolhido = 3\n",
        "\n",
        "k = 0      #Início da busca\n",
        "\n",
        "while nao_achei:\n",
        "    k += 1\n",
        "    print(f'Dia de busca {k}')\n",
        "    for i in range(k):\n",
        "        print(f'Tentando o número {i}')\n",
        "        if i == num_escolhido:\n",
        "            nao_achei = False\n",
        "            print('Encontrei!')\n",
        "            break\n",
        "    print('--------------')\n"
      ]
    },
    {
      "cell_type": "code",
      "execution_count": null,
      "metadata": {
        "id": "oFoXglnQ-uNf"
      },
      "outputs": [],
      "source": []
    },
    {
      "cell_type": "markdown",
      "metadata": {
        "id": "gy6GUt-x-uNf"
      },
      "source": [
        "## Exercícios"
      ]
    },
    {
      "cell_type": "markdown",
      "metadata": {
        "id": "Nc3pRmBgkLIV"
      },
      "source": [
        "1) Escreva um programa que solicite um número inteiro e imprima na tela todos os números de 1 até o número digitado, separado por espaços.  \n",
        "_Exemplo_  \n",
        "número digitado: 5  \n",
        "resultado esperado: 1 2 3 4 5"
      ]
    },
    {
      "cell_type": "code",
      "source": [
        "\n",
        "numero_digitado = int(input(\"Digite um número inteiro: \"))\n",
        "\n",
        "for i in range(1, numero_digitado + 1):\n",
        "    print(i, end=' ')\n",
        "\n",
        "print()\n"
      ],
      "metadata": {
        "id": "WqGaerXo_BoP"
      },
      "execution_count": null,
      "outputs": []
    },
    {
      "cell_type": "markdown",
      "metadata": {
        "id": "8VhTFpS6kLIX"
      },
      "source": [
        "2) Faça um programa que mostre o fatorial de um número digitado.  \n",
        "\n",
        "**Exemplo**\n",
        "- número digitado: 5  \n",
        "- resultado esperado: 120\n",
        "\n",
        "OBS1: Considere que 0! é igual a 1.\n",
        "\n",
        "OBS2: Não existe fatorial de um número negativo. Neste caso, se o usuário digitar um número negativo, o programa deve escrever \"Não existe fatorial de um número negativo!\""
      ]
    },
    {
      "cell_type": "code",
      "execution_count": null,
      "metadata": {
        "id": "r-jEMetDkLIX"
      },
      "outputs": [],
      "source": [
        "numero = int(input(\"Digite um número inteiro: \"))\n",
        "\n",
        "if numero < 0:\n",
        "    print(\"Não existe fatorial de um número negativo!\")\n",
        "else:\n",
        "    fatorial = 1\n",
        "    for i in range(1, numero + 1):\n",
        "        fatorial *= i\n",
        "    print(f\"O fatorial de {numero} é {fatorial}\")\n"
      ]
    },
    {
      "cell_type": "markdown",
      "metadata": {
        "id": "T7A0MkCvkLIX"
      },
      "source": [
        "3) Faça um programa que imprima a tabuada do 9 na tela (entre 1 e 10). Insira a conta, por exemplo, 9 * 1 = 9, sendo cada um dos valores em uma linha diferente."
      ]
    },
    {
      "cell_type": "code",
      "execution_count": null,
      "metadata": {
        "id": "jAECcyrkkLIX"
      },
      "outputs": [],
      "source": [
        "numero = 9\n",
        "\n",
        "for i in range(1, 11):\n",
        "    resultado = numero * i\n",
        "    print(f\"{numero} * {i} = {resultado}\")"
      ]
    },
    {
      "cell_type": "markdown",
      "metadata": {
        "id": "B380cR_KkLIX"
      },
      "source": [
        "4) Faça um programa em que o usuário digite números quaisquer que encerrará no momento em que o valor 0 seja digitado. Ao final diga qual foi o maior número digitado."
      ]
    },
    {
      "cell_type": "code",
      "execution_count": null,
      "metadata": {
        "id": "N2wWHgWQkLIX",
        "colab": {
          "base_uri": "https://localhost:8080/"
        },
        "outputId": "7f74e329-ddd4-4371-b8ed-94a16a0c93ae"
      },
      "outputs": [
        {
          "output_type": "stream",
          "name": "stdout",
          "text": [
            "Digite um numero: 9\n",
            "Digite um numero: 3\n",
            "Digite um numero: 4\n",
            "Digite um numero: 4\n",
            "Digite um numero: 6\n",
            "Digite um numero: 0\n",
            "maior numero é:  6.0\n"
          ]
        }
      ],
      "source": [
        "n1 = float(input('Digite um numero: '))\n",
        "maior_numero = 0\n",
        "while n1 != 0:\n",
        "  n1 = float(input('Digite um numero: '))\n",
        "  if maior_numero <56 n1:\n",
        "    maior_numero = n1\n",
        "\n",
        "print('maior numero é: ',maior_numero)\n"
      ]
    },
    {
      "cell_type": "markdown",
      "metadata": {
        "id": "dPlR_e7JkLIX"
      },
      "source": [
        "5. Faça um script que peça para o usuário digitar a idade, o salário e o sexo de uma pessoa até que as entradas digitadas sejam válidas.  \n",
        "  \n",
        "a. Idade: entre 0 e 150  \n",
        "b. Salário: maior que 0  \n",
        "c. Gênero: M, F ou Outro  \n",
        "  \n",
        "Por último imprima os dados recebidos do usuário."
      ]
    },
    {
      "cell_type": "code",
      "execution_count": null,
      "metadata": {
        "id": "TTkdoTnPkLIY",
        "colab": {
          "base_uri": "https://localhost:8080/"
        },
        "outputId": "40636226-d778-4664-9e9b-74a2c4cedec0"
      },
      "outputs": [
        {
          "output_type": "stream",
          "name": "stdout",
          "text": [
            "Digite o valor do salario: -1\n",
            "salario invalido: \n"
          ]
        }
      ],
      "source": [
        "while True:\n",
        "  salario = float(input('Digite o valor do salario: '))\n",
        "  if salario < 0:\n",
        "    print('salario invalido ')\n",
        "    break\n",
        "\n",
        "  idade = int(input('Digite a idade: '))\n",
        "  if idade > 150 or idade < 0:\n",
        "    print('idade invalida')\n",
        "    break\n",
        "\n",
        "  genero = input(str('Digite M para masculino F para feminino ou outro: ')).upper()\n",
        "  if genero != 'M' or genero != 'F' or genero != 'OUTRO':\n",
        "    print('genero invalido')\n",
        "    break\n",
        "\n"
      ]
    },
    {
      "cell_type": "markdown",
      "metadata": {
        "id": "BqcW2tT6kLIY"
      },
      "source": [
        "6) Faça uma calculadora. O usuário deve inserir qual a operação matemática ele deseja realizar e logo em seguida os dois números. O programa deve finalizar apenas quando o usuário digitar a opção \"sair\" no momento de escolha da operação matemática."
      ]
    },
    {
      "cell_type": "code",
      "execution_count": null,
      "metadata": {
        "id": "d6aaolMPkLIY",
        "colab": {
          "base_uri": "https://localhost:8080/"
        },
        "outputId": "88fe8796-9910-4462-ab90-aa50797967c1"
      },
      "outputs": [
        {
          "name": "stdout",
          "output_type": "stream",
          "text": [
            "digite a opração (+ para adção,-  para subtração, * para multiplicalção, / para divisão ou sair para finalisar: \n",
            "Opção: +\n",
            "Digite o primeiro número: 5\n",
            "Digite o segundo número: 3\n",
            "Resultado: 5.0 + 3.0 = 8.0\n",
            "digite a opração (+ para adção,-  para subtração, * para multiplicalção, / para divisão ou sair para finalisar: \n",
            "Opção: sair\n"
          ]
        }
      ],
      "source": [
        "while True:\n",
        "    print('digite a opração (+ para adção,-  para subtração, * para multiplicalção, / para divisão ou sair para finalisar: ')\n",
        "    operacao = input(\"Opção: \")\n",
        "\n",
        "    if operacao.lower() == \"sair\":\n",
        "        break\n",
        "\n",
        "    if operacao not in (\"+\", \"-\", \"*\", \"/\"):\n",
        "        print(\"Opção inválida. Tente novamente.\")\n",
        "        continue\n",
        "\n",
        "    # Solicita os dois números\n",
        "    num1 = float(input(\"Digite o primeiro número: \"))\n",
        "    num2 = float(input(\"Digite o segundo número: \"))\n",
        "\n",
        "    # Realiza a operação escolhida\n",
        "    if operacao == \"+\":\n",
        "        resultado = num1 + num2\n",
        "        print(f\"Resultado: {num1} + {num2} = {resultado}\")\n",
        "    elif operacao == \"-\":\n",
        "        resultado = num1 - num2\n",
        "        print(f\"Resultado: {num1} - {num2} = {resultado}\")\n",
        "    elif operacao == \"*\":\n",
        "        resultado = num1 * num2\n",
        "        print(f\"Resultado: {num1} * {num2} = {resultado}\")\n",
        "    elif operacao == \"/\":\n",
        "        if num2 == 0:\n",
        "            print(\"Erro: divisão por zero.\")\n",
        "        else:\n",
        "            resultado = num1 / num2\n",
        "            print(f\"Resultado: {num1} / {num2} = {resultado}\")\n"
      ]
    },
    {
      "cell_type": "markdown",
      "metadata": {
        "id": "44eH09eW-uNk"
      },
      "source": [
        "7. Vamos fazer um jogo de adivinhação. Este jogo é feito para duas pessoas, e é jogado em duas etapas. Na primeira etapa, o primeiro jogador deve fornecer um número inteiro entre 0 e 500. O segundo jogador, sem saber este número, deve adivinhar até conseguir acertar, sendo contabilizado o número de tentativas até acertar o número. A cada adivinhação, o programa deve retornar se o número **escolhido** é maior ou menor do que o fornecido pelo primeiro jogador.\n",
        "\n",
        "Na segunda etapa, o jogo é invertido (i.e. o segundo jogador fornece o número inteiro e o primeiro jogador deve adivinhá-lo). O vencedor deste jogo será a pessoa que conseguir, no final, adivinhar o número com o menor número de rodadas.\n",
        "\n",
        "Crie um código que reproduza o jogo, mostrando na tela o vencedor da partida."
      ]
    },
    {
      "cell_type": "code",
      "execution_count": 1,
      "metadata": {
        "id": "W-X1RqhD-uNk",
        "colab": {
          "base_uri": "https://localhost:8080/"
        },
        "outputId": "d958405c-9a51-4a07-96b5-23e55b11ba26"
      },
      "outputs": [
        {
          "output_type": "stream",
          "name": "stdout",
          "text": [
            "******************** PRIMEIRA RODADA ********************\n",
            "Digite um valor inteiro entre 0 e 500 para ser adivinhado: ··········\n",
            "Acerte o valor de 0 a 500: 1\n",
            "Errou! 1  é menor \n",
            "Acerte o valor de 0 a 500: 50\n",
            "Errou! 50 é maior \n",
            "Acerte o valor de 0 a 500: 6\n",
            "Errou! 6 é maior \n",
            "Acerte o valor de 0 a 500: 5\n",
            "Acertou! Ah miseravi!, 4 tentativas \n",
            "******************** SEGUNDA RODADA ********************\n",
            "Digite um valor inteiro entre 0 e 500 para ser adivinhado: ··········\n",
            "Acerte o valor de 0 a 500: 110\n",
            "Errou! 110  é menor \n",
            "Acerte o valor de 0 a 500: 880\n",
            "Valor invalido:\n",
            "Acerte o valor de 0 a 500: 266\n",
            "Errou! 266 é maior \n",
            "Acerte o valor de 0 a 500: 3\n",
            "Errou! 3  é menor \n",
            "Acerte o valor de 0 a 500: 200\n",
            "Acertou! Ah miseravi!, 7 tentativas \n",
            "jogador 1: 4 tentativas, jogador 2: 7 tentativas\n",
            "O jogador 1 é o vencedor\n"
          ]
        }
      ],
      "source": [
        "import getpass\n",
        "print(20*'*','PRIMEIRA RODADA',20*'*' )\n",
        "n1= int(getpass.getpass('Digite um valor inteiro entre 0 e 500 para ser adivinhado: '))\n",
        "n2=0\n",
        "tentativas_1 = 0\n",
        "while n1 != n2:\n",
        "  if n1 in range(0,500):\n",
        "    n2= int(input('Acerte o valor de 0 a 500: '))\n",
        "    tentativas_1 += 1\n",
        "    if n2 in range(0,500) and n2 > n1:\n",
        "      print(f'Errou! {n2} é maior ')\n",
        "    elif n2 in range(0,500) and n2 < n1:\n",
        "      print(f'Errou! {n2}  é menor ')\n",
        "    else:\n",
        "      print('Valor invalido:')\n",
        "  else:\n",
        "    print('Valor invalido')\n",
        "    n1= int(getpass.getpass('Digite um valor inteiro entre 0 e 500 para ser adivinhado: '))\n",
        "\n",
        "print(f'Acertou! Ah miseravi!, {tentativas_1} tentativas ')\n",
        "\n",
        "# segunda rodada\n",
        "\n",
        "print(20*'*','SEGUNDA RODADA',20*'*' )\n",
        "n2= int(getpass.getpass('Digite um valor inteiro entre 0 e 500 para ser adivinhado: '))\n",
        "n1=0\n",
        "tentativas_2 = 0\n",
        "while n1 != n2:\n",
        "  if n2 in range(0,500):\n",
        "    n1= int(input('Acerte o valor de 0 a 500: '))\n",
        "    tentativas_2 += 1\n",
        "    if n1 in range(0,500) and n1 > n2:\n",
        "      print(f'Errou! {n1} é maior ')\n",
        "    elif n1 in range(0,500) and n1 < n2:\n",
        "      print(f'Errou! {n1}  é menor ')\n",
        "      tentativas_2 += 1\n",
        "    elif n1 not in range(0,500):\n",
        "      print('Valor invalido:')\n",
        "  else:\n",
        "    print('Valor invalido')\n",
        "    n2= int(getpass.getpass('Digite um valor inteiro entre 0 e 500 para ser adivinhado: '))\n",
        "\n",
        "print(f'Acertou! Ah miseravi!, {tentativas_2} tentativas ')\n",
        "\n",
        "#decidindo o vencedor\n",
        "print(f'jogador 1: {tentativas_1} tentativas, jogador 2: {tentativas_2} tentativas')\n",
        "if tentativas_1 > tentativas_2:\n",
        "  print('O jogador 2 é o vencedor')\n",
        "else:\n",
        "  print('O jogador 1 é o vencedor')\n"
      ]
    },
    {
      "cell_type": "code",
      "source": [
        "import getpass\n",
        "print(20*'*','PRIMEIRA RODADA',20*'*' )\n",
        "\n",
        "def adivinhar_numero():\n",
        "  n1= int(getpass.getpass('Digite um valor inteiro entre 0 e 500 para ser adivinhado: '))\n",
        "  n2=0\n",
        "  tentativas_1 = 0\n",
        "\n",
        "  while n1 != n2:\n",
        "    if n1 in range(0,500):\n",
        "      n2= int(input('Acerte o valor de 0 a 500: '))\n",
        "      tentativas_1 += 1\n",
        "      if n2 in range(0,500) and n2 > n1:\n",
        "        print(f'Errou! {n2} é maior ')\n",
        "      elif n2 in range(0,500) and n2 < n1:\n",
        "        print(f'Errou! {n2}  é menor ')\n",
        "\n",
        "      elif n2 not in range(0,500):\n",
        "        print('Valor invalido:')\n",
        "    else:\n",
        "      print('Valor invalido')\n",
        "      n1= int(getpass.getpass('Digite um valor inteiro entre 0 e 500 para ser adivinhado: '))\n",
        "\n",
        "  print(f'Acertou! Ah miseravi!, {tentativas_1} tentativas ')\n",
        "  return tentativas_1\n",
        "\n",
        "tentativas_jogador1 = adivinhar_numero()\n",
        "tentativas_jogador2 = adivinhar_numero()\n",
        "\n",
        "#decidindo o vencedor\n",
        "print(f'jogador 1: {tentativas_jogador1} tentativas, jogador 2: {tentativas_jogador2} tentativas')\n",
        "if tentativas_jogador1 > tentativas_jogador2:\n",
        "  print('O jogador 2 é o vencedor')\n",
        "else:\n",
        "  print('O jogador 1 é o vencedor')\n"
      ],
      "metadata": {
        "id": "z-o-MVLLYxMq",
        "colab": {
          "base_uri": "https://localhost:8080/"
        },
        "outputId": "1ff0f072-89ca-46f6-f2f7-32c386f24e47"
      },
      "execution_count": 5,
      "outputs": [
        {
          "output_type": "stream",
          "name": "stdout",
          "text": [
            "******************** PRIMEIRA RODADA ********************\n",
            "Digite um valor inteiro entre 0 e 500 para ser adivinhado: ··········\n",
            "Acerte o valor de 0 a 500: 2\n",
            "Errou! 2  é menor \n",
            "Acerte o valor de 0 a 500: 3\n",
            "Errou! 3  é menor \n",
            "Acerte o valor de 0 a 500: 8\n",
            "Errou! 8 é maior \n",
            "Acerte o valor de 0 a 500: 5\n",
            "Acertou! Ah miseravi!, 4 tentativas \n",
            "Digite um valor inteiro entre 0 e 500 para ser adivinhado: ··········\n",
            "Acerte o valor de 0 a 500: 6\n",
            "Acertou! Ah miseravi!, 1 tentativas \n",
            "jogador 1: 4 tentativas, jogador 2: 1 tentativas\n",
            "O jogador 2 é o vencedor\n"
          ]
        }
      ]
    },
    {
      "cell_type": "markdown",
      "metadata": {
        "id": "F6j-Wc4D-uN-"
      },
      "source": [
        "8. Um outro jogo que podemos implementar em Python é o jogo do Soma 100. Neste jogo, três pessoas podem participar. A cada rodada, cada um dos jogadores deve escolher, secretamente (neste caso, usando o `input` mas supondo que os outros jogadores não conseguem ver o núermo) um número entre 1 e 10 para ser adicionado ao montante conjunto `n`, que inicialmente tem o valor 0. O jogo termina quando, na rodada, o usuário ultrapassar 100, e o vencedor será aquele que foi o responsável pelo término do jogo.\n",
        "\n",
        "Crie um código que reproduza o jogo e mostre na tela o vencedor da partida."
      ]
    },
    {
      "cell_type": "code",
      "source": [
        "n = 0\n",
        "v_jogador1 = 0\n",
        "v_jogador2 = 0\n",
        "v_jogador3 = 0\n",
        "cont = 1\n",
        "\n",
        "while n < 20:\n",
        "  print(5*'*','rodada: ',cont,5*'*')\n",
        "\n",
        "  v_jogador1 = float(input('jogador 1, digite um valor entre 0 e 10: '))\n",
        "  n += v_jogador1\n",
        "  if v_jogador1 not in range(0,10):\n",
        "    print('O valor digitado é invalido! ')\n",
        "    n -= v_jogador1\n",
        "    continue\n",
        "  elif n > 100:\n",
        "    print('O jogador 1 é o vencedor')\n",
        "    continue\n",
        "\n",
        "\n",
        "  v_jogador2 = float(input('jogador 2, digite um valor entre 0 e 10: '))\n",
        "  n += v_jogador2\n",
        "  if v_jogador2 not in range(0,10):\n",
        "    print('O valor digitado é invalido! ')\n",
        "    n -= v_jogador2\n",
        "    continue\n",
        "  elif n > 100:\n",
        "    print('O jogador 2 é o vencedor')\n",
        "    continue\n",
        "\n",
        "\n",
        "  v_jogador3 = float(input('jogador 1, digite um valor entre 0 e 10: '))\n",
        "  n += v_jogador3\n",
        "  if v_jogador3 not in range(0,10):\n",
        "    print('O valor digitado é invalido! ')\n",
        "    n -= v_jogador3\n",
        "    continue\n",
        "  elif n > 100:\n",
        "    print('O jogador 3 é o vencedor')\n",
        "    continue\n",
        "\n",
        "  cont += 1"
      ],
      "metadata": {
        "colab": {
          "base_uri": "https://localhost:8080/"
        },
        "id": "tkH9jyTqLtc_",
        "outputId": "3fdca1fa-359c-4c5c-b7c0-1760cab5b1a9"
      },
      "execution_count": 7,
      "outputs": [
        {
          "output_type": "stream",
          "name": "stdout",
          "text": [
            "***** rodada:  1 *****\n",
            "jogador 1, digite um valor entre 0 e 10: 4\n",
            "jogador 2, digite um valor entre 0 e 10: 4\n",
            "jogador 1, digite um valor entre 0 e 10: 6\n",
            "O jogador 3 é o vencedor\n"
          ]
        }
      ]
    },
    {
      "cell_type": "code",
      "source": [
        "n = 0\n",
        "v_jogador1 = 0\n",
        "v_jogador2 = 0\n",
        "v_jogador3 = 0\n",
        "cont = 1\n",
        "\n",
        "def jogo()\n",
        "    v_jogador = float(input('jogador 1, digite um valor entre 0 e 10: '))\n",
        "    n += v_jogador\n",
        "    if v_jogador1 not in range(0,10):\n",
        "      print('O valor digitado é invalido! ')\n",
        "      n -= v_jogador1\n",
        "    elif n > 20:\n",
        "      print('O jogador 1 é o vencedor')\n",
        "\n",
        "\n",
        "\n",
        "\n",
        "# while n < 100:\n",
        "\n",
        "#   v_jogador2 = float(input('jogador 2, digite um valor entre 0 e 10: '))\n",
        "#   n += v_jogador2\n",
        "#   if v_jogador2 not in range(0,10):\n",
        "#     print('O valor digitado é invalido! ')\n",
        "#     n -= v_jogador2\n",
        "#     continue\n",
        "#   elif n > 100:\n",
        "#     print('O jogador 2 é o vencedor')\n",
        "#     continue\n",
        "\n",
        "\n",
        "#   v_jogador3 = float(input('jogador 1, digite um valor entre 0 e 10: '))\n",
        "#   n += v_jogador3\n",
        "#   if v_jogador3 not in range(0,10):\n",
        "#     print('O valor digitado é invalido! ')\n",
        "#     n -= v_jogador3\n",
        "#     continue\n",
        "#   elif n > 100:\n",
        "#     print('O jogador 3 é o vencedor')\n",
        "#     continue\n",
        "\n",
        "#   cont += 1"
      ],
      "metadata": {
        "id": "qoQvLjQhX-kC"
      },
      "execution_count": null,
      "outputs": []
    }
  ],
  "metadata": {
    "colab": {
      "provenance": []
    },
    "kernelspec": {
      "display_name": "Python 3",
      "language": "python",
      "name": "python3"
    },
    "language_info": {
      "codemirror_mode": {
        "name": "ipython",
        "version": 3
      },
      "file_extension": ".py",
      "mimetype": "text/x-python",
      "name": "python",
      "nbconvert_exporter": "python",
      "pygments_lexer": "ipython3",
      "version": "3.10.4"
    },
    "vscode": {
      "interpreter": {
        "hash": "d044c6e0ce06759120adefce77398d00e1228e64d92f3f185fbd024a7701b8e0"
      }
    }
  },
  "nbformat": 4,
  "nbformat_minor": 0
}