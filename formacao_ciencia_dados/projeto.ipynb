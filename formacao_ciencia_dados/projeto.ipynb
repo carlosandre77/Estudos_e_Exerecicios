{
 "cells": [
  {
   "cell_type": "code",
   "execution_count": 7,
   "metadata": {},
   "outputs": [],
   "source": [
    "from math import sqrt\n",
    "from manipulate_data import load_json_file, save_json_file\n",
    "\n",
    "#dados_carregados = load_json_file('export','arquivo')\n",
    "\n",
    "\n",
    "loc = [2,2]\n",
    "restaurante = []\n",
    "sair = 'S'\n",
    "cont = 0\n",
    "\n",
    "tradicional = ['hamburguer','batata frita']\n",
    "vegano = ['salada','aveia']\n",
    "cardapios = [tradicional,vegano]"
   ]
  },
  {
   "cell_type": "code",
   "execution_count": 1,
   "metadata": {},
   "outputs": [
    {
     "ename": "NameError",
     "evalue": "name 'restaurante' is not defined",
     "output_type": "error",
     "traceback": [
      "\u001b[1;31m---------------------------------------------------------------------------\u001b[0m",
      "\u001b[1;31mNameError\u001b[0m                                 Traceback (most recent call last)",
      "\u001b[1;32mUntitled-1.ipynb Cell 2\u001b[0m line \u001b[0;36m6\n\u001b[0;32m      <a href='vscode-notebook-cell:Untitled-1.ipynb?jupyter-notebook#W1sdW50aXRsZWQ%3D?line=2'>3</a>\u001b[0m \u001b[39mif\u001b[39;00m sair \u001b[39m==\u001b[39m \u001b[39m'\u001b[39m\u001b[39mN\u001b[39m\u001b[39m'\u001b[39m:\n\u001b[0;32m      <a href='vscode-notebook-cell:Untitled-1.ipynb?jupyter-notebook#W1sdW50aXRsZWQ%3D?line=3'>4</a>\u001b[0m     \u001b[39mbreak\u001b[39;00m\n\u001b[1;32m----> <a href='vscode-notebook-cell:Untitled-1.ipynb?jupyter-notebook#W1sdW50aXRsZWQ%3D?line=5'>6</a>\u001b[0m restaurante\u001b[39m.\u001b[39mappend([cont])\n\u001b[0;32m      <a href='vscode-notebook-cell:Untitled-1.ipynb?jupyter-notebook#W1sdW50aXRsZWQ%3D?line=6'>7</a>\u001b[0m restaurante[cont]\u001b[39m.\u001b[39mappend(\u001b[39minput\u001b[39m(\u001b[39m'\u001b[39m\u001b[39mDigite o nome do restaurante: \u001b[39m\u001b[39m'\u001b[39m))\n\u001b[0;32m      <a href='vscode-notebook-cell:Untitled-1.ipynb?jupyter-notebook#W1sdW50aXRsZWQ%3D?line=8'>9</a>\u001b[0m restaurante[cont]\u001b[39m.\u001b[39mappend(\u001b[39minput\u001b[39m(\u001b[39m'\u001b[39m\u001b[39mDigite as coordenadas do restaurante: \u001b[39m\u001b[39m'\u001b[39m)\u001b[39m.\u001b[39msplit(\u001b[39m'\u001b[39m\u001b[39m,\u001b[39m\u001b[39m'\u001b[39m))\n",
      "\u001b[1;31mNameError\u001b[0m: name 'restaurante' is not defined"
     ]
    }
   ],
   "source": [
    "while True:\n",
    "    sair = input('Deseja cadastrar restaurante?(S/N): ').upper()\n",
    "    if sair == 'N':\n",
    "        break\n",
    "\n",
    "    restaurante.append([cont])\n",
    "    restaurante[cont].append(input('Digite o nome do restaurante: '))\n",
    "    \n",
    "    restaurante[cont].append(input('Digite as coordenadas do restaurante: ').split(','))\n",
    "\n",
    "    lat = float(restaurante[cont][2][0])\n",
    "    long = float(restaurante[cont][2][1])\n",
    "    \n",
    "\n",
    "    distancia = sqrt(( loc[0] - lat )** 2 + (loc[1] - long )**2 )\n",
    "    restaurante[cont][2].append(distancia)\n",
    "   \n",
    "    \n",
    "    restaurante[cont].append(input('Digite o numero telefone: '))\n",
    "    cardapio_selecionado = int(input('Digite o cardapio 0 para tradicional 1 para vegano: ')) \n",
    "    restaurante[cont].append(cardapios[cardapio_selecionado])\n",
    "    cont += 1"
   ]
  }
 ],
 "metadata": {
  "kernelspec": {
   "display_name": "Python 3",
   "language": "python",
   "name": "python3"
  },
  "language_info": {
   "codemirror_mode": {
    "name": "ipython",
    "version": 3
   },
   "file_extension": ".py",
   "mimetype": "text/x-python",
   "name": "python",
   "nbconvert_exporter": "python",
   "pygments_lexer": "ipython3",
   "version": "3.10.11"
  }
 },
 "nbformat": 4,
 "nbformat_minor": 2
}
