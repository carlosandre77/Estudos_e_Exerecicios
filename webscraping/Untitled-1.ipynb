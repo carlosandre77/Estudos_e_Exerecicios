{
 "cells": [
  {
   "cell_type": "code",
   "execution_count": 2,
   "metadata": {},
   "outputs": [],
   "source": [
    "import requests\n",
    "from bs4 import BeautifulSoup\n",
    "import csv\n"
   ]
  },
  {
   "cell_type": "code",
   "execution_count": 5,
   "metadata": {},
   "outputs": [
    {
     "ename": "AttributeError",
     "evalue": "'NoneType' object has no attribute 'find_all'",
     "output_type": "error",
     "traceback": [
      "\u001b[1;31m---------------------------------------------------------------------------\u001b[0m",
      "\u001b[1;31mAttributeError\u001b[0m                            Traceback (most recent call last)",
      "Cell \u001b[1;32mIn[5], line 14\u001b[0m\n\u001b[0;32m     12\u001b[0m \u001b[38;5;66;03m# Encontrar e extrair os elementos da página\u001b[39;00m\n\u001b[0;32m     13\u001b[0m table \u001b[38;5;241m=\u001b[39m soup\u001b[38;5;241m.\u001b[39mfind(\u001b[38;5;124m'\u001b[39m\u001b[38;5;124mtable\u001b[39m\u001b[38;5;124m'\u001b[39m, class_\u001b[38;5;241m=\u001b[39m\u001b[38;5;124m'\u001b[39m\u001b[38;5;124mcds--data-table\u001b[39m\u001b[38;5;124m'\u001b[39m) \n\u001b[1;32m---> 14\u001b[0m rows \u001b[38;5;241m=\u001b[39m \u001b[43mtable\u001b[49m\u001b[38;5;241;43m.\u001b[39;49m\u001b[43mfind_all\u001b[49m(\u001b[38;5;124m'\u001b[39m\u001b[38;5;124mtr\u001b[39m\u001b[38;5;124m'\u001b[39m)  \u001b[38;5;66;03m# Encontrar todas as linhas da tabela\u001b[39;00m\n\u001b[0;32m     16\u001b[0m \u001b[38;5;66;03m# Lista para armazenar os dados coletados\u001b[39;00m\n\u001b[0;32m     17\u001b[0m data \u001b[38;5;241m=\u001b[39m []\n",
      "\u001b[1;31mAttributeError\u001b[0m: 'NoneType' object has no attribute 'find_all'"
     ]
    }
   ],
   "source": [
    "\n",
    "# URL da página que você deseja fazer scraping\n",
    "url = 'https://www.ibm.com/docs/pt-br/spss-modeler/18.4.0?topic=rules-tabular-versus-transactional-data'\n",
    "\n",
    "# Realizar a requisição HTTP para obter o conteúdo da página\n",
    "response = requests.get(url)\n",
    "\n",
    "# Verificar se a requisição foi bem-sucedida\n",
    "if response.status_code == 200:\n",
    "    # Analisar o conteúdo HTML da página\n",
    "    soup = BeautifulSoup(response.text, 'html.parser')\n",
    "\n",
    "    # Encontrar e extrair os elementos da página\n",
    "    table = soup.find('table', class_='cds--data-table') \n",
    "    rows = table.find_all('tr')  # Encontrar todas as linhas da tabela\n",
    "\n",
    "    # Lista para armazenar os dados coletados\n",
    "    data = []\n",
    "\n",
    "    # Extrair os dados de cada linha da tabela\n",
    "    for row in rows:\n",
    "        # Extrair o texto de cada célula na linha\n",
    "        cells = row.find_all(['th', 'td'])\n",
    "        # Extrair os dados de cada célula e adicioná-los à lista de dados\n",
    "        data.append([cell.get_text(strip=True) for cell in cells])\n",
    "\n",
    "    # Salvar os dados coletados em um arquivo CSV\n",
    "    nome_arquivo = 'dados_coletados.csv'\n",
    "    with open(nome_arquivo, 'w', newline='', encoding='utf-8') as csvfile:\n",
    "        writer = csv.writer(csvfile)\n",
    "        # Escrever os dados no arquivo CSV\n",
    "        writer.writerows(data)\n",
    "\n",
    "    print(\"Os dados foram coletados e salvos em\", nome_arquivo)\n",
    "else:\n",
    "    print('Falha ao acessar a página:', response.status_code)"
   ]
  },
  {
   "cell_type": "code",
   "execution_count": 11,
   "metadata": {},
   "outputs": [
    {
     "name": "stdout",
     "output_type": "stream",
     "text": [
      "Nenhuma tabela encontrada com a classe especificada.\n"
     ]
    }
   ],
   "source": [
    "import requests\n",
    "from bs4 import BeautifulSoup\n",
    "import csv\n",
    "\n",
    "# URL da página que você deseja fazer scraping\n",
    "url = 'https://www.ibm.com/docs/pt-br/spss-modeler/18.4.0?topic=rules-tabular-versus-transactional-data'\n",
    "\n",
    "# Realizar a requisição HTTP para obter o conteúdo da página\n",
    "response = requests.get(url)\n",
    "\n",
    "# Verificar se a requisição foi bem-sucedida\n",
    "if response.status_code == 200:\n",
    "    # Analisar o conteúdo HTML da página\n",
    "    soup = BeautifulSoup(response.text, 'html.parser')\n",
    "\n",
    "    # Encontrar e extrair os elementos da página\n",
    "    table = soup.find('table', class_='cds--data-table') \n",
    "\n",
    "    # Verificar se a tabela foi encontrada\n",
    "    if table:\n",
    "        # Encontrar todas as linhas da tabela\n",
    "        rows = table.find_all('tr')\n",
    "\n",
    "        # Lista para armazenar os dados coletados\n",
    "        data = []\n",
    "\n",
    "        # Extrair os dados de cada linha da tabela\n",
    "        for row in rows:\n",
    "            # Extrair o texto de cada célula na linha\n",
    "            cells = row.find_all(['th', 'td'])\n",
    "            # Extrair os dados de cada célula e adicioná-los à lista de dados\n",
    "            data.append([cell.get_text(strip=True) for cell in cells])\n",
    "\n",
    "        # Salvar os dados coletados em um arquivo CSV\n",
    "        nome_arquivo = 'dados_coletados.csv'\n",
    "        with open(nome_arquivo, 'w', newline='', encoding='utf-8') as csvfile:\n",
    "            writer = csv.writer(csvfile)\n",
    "            # Escrever os dados no arquivo CSV\n",
    "            writer.writerows(data)\n",
    "\n",
    "        print(\"Os dados foram coletados e salvos em\", nome_arquivo)\n",
    "    else:\n",
    "        print(\"Nenhuma tabela encontrada com a classe especificada.\")\n",
    "else:\n",
    "    print('Falha ao acessar a página:', response.status_code)\n"
   ]
  }
 ],
 "metadata": {
  "kernelspec": {
   "display_name": "Python 3",
   "language": "python",
   "name": "python3"
  },
  "language_info": {
   "codemirror_mode": {
    "name": "ipython",
    "version": 3
   },
   "file_extension": ".py",
   "mimetype": "text/x-python",
   "name": "python",
   "nbconvert_exporter": "python",
   "pygments_lexer": "ipython3",
   "version": "3.11.9"
  }
 },
 "nbformat": 4,
 "nbformat_minor": 2
}
